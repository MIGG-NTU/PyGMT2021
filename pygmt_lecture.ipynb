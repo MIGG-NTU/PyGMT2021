{
 "cells": [
  {
   "cell_type": "markdown",
   "metadata": {},
   "source": [
    "# A preliminary introduction to [PyGMT](https://www.pygmt.org/)\n",
    "\n",
    "- **Presenter**: [YAO Jiayuan](https://github.com/core-man)\n",
    "- **Date**: 16 March 2021"
   ]
  },
  {
   "cell_type": "markdown",
   "metadata": {},
   "source": [
    "---\n",
    "## 1. Making your first figure\n",
    "\n",
    "First, let's import the PyGMT Python package:"
   ]
  },
  {
   "cell_type": "code",
   "execution_count": null,
   "metadata": {
    "scrolled": true
   },
   "outputs": [],
   "source": [
    "import pygmt"
   ]
  },
  {
   "cell_type": "markdown",
   "metadata": {},
   "source": [
    "All figure generation in PyGMT is handled by the [`pygmt.Figure`](https://www.pygmt.org/latest/api/generated/pygmt.Figure.html#pygmt.Figure) class. Every figure must start with the creation of an instance of this class:"
   ]
  },
  {
   "cell_type": "code",
   "execution_count": null,
   "metadata": {},
   "outputs": [],
   "source": [
    "fig = pygmt.Figure()"
   ]
  },
  {
   "cell_type": "markdown",
   "metadata": {},
   "source": [
    "Add elements to the figure using its methods. For example, let’s use [`pygmt.Figure.basemap`](https://www.pygmt.org/latest/api/generated/pygmt.Figure.basemap.html#pygmt.Figure.basemap) to start the creation of a map. We’ll use the `region` parameter to provide the longitude and latitude bounds, the `projection` parameter to set the projection to Mercator (**M**) and the map width to 15 cm, and the `frame` parameter to generate a frame with automatic tick and annotation spacings."
   ]
  },
  {
   "cell_type": "code",
   "execution_count": null,
   "metadata": {},
   "outputs": [],
   "source": [
    "fig.basemap(region=[-90, -70, 0, 20], projection=\"M15c\", frame=True)"
   ]
  },
  {
   "cell_type": "markdown",
   "metadata": {},
   "source": [
    "Now we can add coastlines using [`pygmt.Figure.coast`](https://www.pygmt.org/latest/api/generated/pygmt.Figure.coast.html#pygmt.Figure.coast) to this map using the default resolution, line width, and color:"
   ]
  },
  {
   "cell_type": "code",
   "execution_count": null,
   "metadata": {},
   "outputs": [],
   "source": [
    "fig.coast(shorelines=True)"
   ]
  },
  {
   "cell_type": "markdown",
   "metadata": {},
   "source": [
    "To see the figure, call [`pygmt.Figure.show`](https://www.pygmt.org/latest/api/generated/pygmt.Figure.show.html#pygmt.Figure.show):"
   ]
  },
  {
   "cell_type": "code",
   "execution_count": null,
   "metadata": {},
   "outputs": [],
   "source": [
    "fig.show()"
   ]
  },
  {
   "cell_type": "markdown",
   "metadata": {},
   "source": [
    "We can also set the map region, projection, and frame type directly in other methods without calling [`gmt.Figure.basemap`](https://www.pygmt.org/latest/api/generated/pygmt.Figure.basemap.html#pygmt.Figure.basemap):"
   ]
  },
  {
   "cell_type": "code",
   "execution_count": null,
   "metadata": {},
   "outputs": [],
   "source": [
    "fig = pygmt.Figure()\n",
    "fig.coast(region=[-90, -70, 0, 20], projection=\"M15c\", shorelines=True, frame=True)\n",
    "fig.show()"
   ]
  },
  {
   "cell_type": "markdown",
   "metadata": {},
   "source": [
    "We can also show a figure \"externally\" in a PDF viewer (e.g., in Preview on macOS) with the `method='external'` keyword argument:"
   ]
  },
  {
   "cell_type": "code",
   "execution_count": null,
   "metadata": {},
   "outputs": [],
   "source": [
    "fig.show(method='external')"
   ]
  },
  {
   "cell_type": "markdown",
   "metadata": {},
   "source": [
    "Use the method [`pygmt.Figure.savefig`](https://www.pygmt.org/latest/api/generated/pygmt.Figure.savefig.html#pygmt.Figure.savefig) to save your figure to a file. The figure format is inferred from the extension."
   ]
  },
  {
   "cell_type": "code",
   "execution_count": null,
   "metadata": {},
   "outputs": [],
   "source": [
    "fig.savefig(\"central-america-shorelines.png\")"
   ]
  },
  {
   "cell_type": "markdown",
   "metadata": {},
   "source": [
    "## 2. Notes for experienced GMT users\n",
    "\n",
    "You have probably noticed several things that are different from classic command-line GMT. Many of these changes reflect the new GMT modern execution mode that is part of GMT 6.\n",
    "1. As a general rule, the `ps` prefix has been removed from all `ps*` modules (PyGMT methods). For example, the name of the GMT 5 module `pscoast` is `coast` in GMT 6 and PyGMT.\n",
    "  The exceptions are: `psxy` which is now `plot`, `psxyz` which is now `plot3d`, and `psscale` which is now `colorbar`.\n",
    "2. More details can be found in the [GMT cookbook introduction to modern mode](https://docs.generic-mapping-tools.org/latest//cookbook/introduction.html#modern-and-classic-mode)."
   ]
  },
  {
   "cell_type": "markdown",
   "metadata": {},
   "source": [
    "A few are PyGMT exclusive (like the `savefig` method).\n",
    "\n",
    "1. The PyGMT parameters (called options or arguments in GMT) don’t use the GMT 1-letter syntax (**R**, **J**, **B**, etc). We use longer aliases for these parameters and have some Python exclusive names. The mapping between the GMT parameters and their PyGMT aliases should be straightforward. For some modules, these aliases are still being developed. For example, `region` is the alias for **R** and `projection` is for **J**, and `frame` is for **B**.\n",
    "2. Parameters like `region` can take **lists** as well as **strings** like `1/2/3/4`.\n",
    "3. If a GMT option has no arguments (like `-B` instead of `-Baf`), use a `True` in Python. An empty string would also be acceptable. For repeated parameters, such as `-B+Loleron -Bxaf -By+lm`, provide a **list**: `frame=[\"+Loleron\", \"xaf\", \"y+lm\"]`.\n",
    "4. There is no output redirecting to a PostScript file. The figure is generated in the background and will only be shown or saved when you ask for it."
   ]
  },
  {
   "cell_type": "markdown",
   "metadata": {},
   "source": [
    "## 3. Some gallery examples\n",
    "\n",
    "Let's see a few more examples from PyGMT [tutorial](https://www.pygmt.org/latest/tutorials/) and [gallery](https://www.pygmt.org/latest/gallery/index.html)."
   ]
  },
  {
   "cell_type": "code",
   "execution_count": null,
   "metadata": {},
   "outputs": [],
   "source": [
    "import numpy as np"
   ]
  },
  {
   "cell_type": "markdown",
   "metadata": {},
   "source": [
    "**Plot basemap:** [Double Y axes graph](https://www.pygmt.org/latest/gallery/basemaps/double_y_axes.html#sphx-glr-gallery-basemaps-double-y-axes-py)"
   ]
  },
  {
   "cell_type": "code",
   "execution_count": null,
   "metadata": {},
   "outputs": [],
   "source": [
    "# Generate two sample Y data from one common X data\n",
    "x = np.linspace(1.0, 9.0, num=9)\n",
    "y1 = x\n",
    "y2 = x ** 2 + 110\n",
    "\n",
    "fig = pygmt.Figure()\n",
    "\n",
    "# Plot the common X axes\n",
    "# The bottom axis (S) is plotted with annotations and tick marks\n",
    "# The top axis (t) is plotted without annotations and tick marks\n",
    "# The left and right axes are not drawn\n",
    "fig.basemap(region=[0, 10, 0, 10], projection=\"X15c/15c\", frame=[\"St\", \"xaf+lx\"])\n",
    "\n",
    "# Plot the Y axis for y1 data\n",
    "# The left axis (W) is plotted with blue annotations, ticks, and label\n",
    "with pygmt.config(\n",
    "    MAP_FRAME_PEN=\"blue\",\n",
    "    MAP_TICK_PEN=\"blue\",\n",
    "    FONT_ANNOT_PRIMARY=\"blue\",\n",
    "    FONT_LABEL=\"blue\",\n",
    "):\n",
    "    fig.basemap(frame=[\"W\", \"yaf+ly1\"])\n",
    "\n",
    "# Plot the line for y1 data\n",
    "fig.plot(x=x, y=y1, pen=\"1p,blue\")\n",
    "# Plot points for y1 data\n",
    "fig.plot(x=x, y=y1, style=\"c0.2c\", color=\"blue\", label=\"y1\")\n",
    "\n",
    "# Plot the Y axis for y2 data\n",
    "# The right axis (E) is plotted with red annotations, ticks, and label\n",
    "with pygmt.config(\n",
    "    MAP_FRAME_PEN=\"red\",\n",
    "    MAP_TICK_PEN=\"red\",\n",
    "    FONT_ANNOT_PRIMARY=\"red\",\n",
    "    FONT_LABEL=\"red\",\n",
    "):\n",
    "    fig.basemap(region=[0, 10, 100, 200], frame=[\"E\", \"yaf+ly2\"])\n",
    "# Plot the line for y2 data\n",
    "fig.plot(x=x, y=y2, pen=\"1p,red\")\n",
    "# Plot points for y2 data\n",
    "fig.plot(x=x, y=y2, style=\"s0.28c\", color=\"red\", label=\"y2\")\n",
    "\n",
    "# Create a legend in the top-left corner of the plot\n",
    "fig.legend(position=\"jTL+o0.1c\", box=True)\n",
    "\n",
    "fig.show()"
   ]
  },
  {
   "cell_type": "markdown",
   "metadata": {},
   "source": [
    "**Plotting Earth relief:** [Plot a region map](https://www.pygmt.org/latest/tutorials/earth_relief.html#create-a-region-map)"
   ]
  },
  {
   "cell_type": "code",
   "execution_count": null,
   "metadata": {},
   "outputs": [],
   "source": [
    "grid = pygmt.datasets.load_earth_relief(resolution=\"10m\", region=[-14, 30, 35, 60])\n",
    "\n",
    "fig = pygmt.Figure()\n",
    "fig.grdimage(grid=grid, projection=\"M15c\", frame=\"a\", cmap=\"geo\")\n",
    "fig.colorbar(frame=[\"a1000\", \"x+lElevation\", \"y+lm\"])\n",
    "fig.show()"
   ]
  },
  {
   "cell_type": "markdown",
   "metadata": {},
   "source": [
    "**Lines and vectors:** [Vector heads and tails](https://www.pygmt.org/latest/gallery/lines/vector_heads_tails.html#sphx-glr-gallery-lines-vector-heads-tails-py)"
   ]
  },
  {
   "cell_type": "code",
   "execution_count": null,
   "metadata": {},
   "outputs": [],
   "source": [
    "fig = pygmt.Figure()\n",
    "fig.basemap(\n",
    "    region=[0, 10, 0, 15], projection=\"X15c/10c\", frame='+t\"Vector heads and tails\"'\n",
    ")\n",
    "\n",
    "x = 1\n",
    "y = 14\n",
    "angle = 0  # in degrees, measured counter-clockwise from horizontal\n",
    "length = 7\n",
    "\n",
    "for vecstyle in [\n",
    "    # vector without head and tail (line)\n",
    "    \"v0c\",\n",
    "    # plain open arrow at beginning and end, angle of the vector head apex is set to 50\n",
    "    \"v0.6c+bA+eA+a50\",\n",
    "    # plain open tail at beginning and end\n",
    "    \"v0.4c+bI+eI\",\n",
    "    # terminal line at beginning and end, angle of vector head apex is set to 80\n",
    "    \"v0.3c+bt+et+a80\",\n",
    "    # arrow head at end\n",
    "    \"v0.6c+e\",\n",
    "    # circle at beginning and arrow head at end\n",
    "    \"v0.6c+bc+ea\",\n",
    "    # terminal line at beginning and arrow head at end\n",
    "    \"v0.6c+bt+ea\",\n",
    "    # arrow head at end, shape of vector head is set to 0.5\n",
    "    \"v1c+e+h0.5\",\n",
    "    # modified arrow heads at beginning and end\n",
    "    \"v1c+b+e+h0.5\",\n",
    "    # tail at beginning and arrow with modified vector head at end\n",
    "    \"v1c+bi+ea+h0.5\",\n",
    "    # half-sided arrow head (right side) at beginning and arrow at the end\n",
    "    \"v1c+bar+ea+h0.8\",\n",
    "    # half-sided arrow heads at beginning (right side) and end (left side)\n",
    "    \"v1c+bar+eal+h0.5\",\n",
    "    # half-sided tail at beginning and arrow at end (right side for both)\n",
    "    \"v1c+bi+ea+r+h0.5+a45\",\n",
    "]:\n",
    "    fig.plot(\n",
    "        x=x, y=y, style=vecstyle, direction=([angle], [length]), pen=\"2p\", color=\"red3\"\n",
    "    )\n",
    "    fig.text(\n",
    "        x=6, y=y, text=vecstyle, font=\"Courier-Bold\", justify=\"ML\", offset=\"0.2c/0c\"\n",
    "    )\n",
    "    y -= 1  # move the next vector down\n",
    "\n",
    "fig.show()"
   ]
  },
  {
   "cell_type": "markdown",
   "metadata": {},
   "source": [
    "**Symbols:** [Plotting data points](https://www.pygmt.org/latest/tutorials/plot.html#)"
   ]
  },
  {
   "cell_type": "code",
   "execution_count": null,
   "metadata": {},
   "outputs": [],
   "source": [
    "data = pygmt.datasets.load_japan_quakes()\n",
    "\n",
    "# Set the region for the plot to be slightly larger than the data bounds.\n",
    "region = [\n",
    "    data.longitude.min() - 1,\n",
    "    data.longitude.max() + 1,\n",
    "    data.latitude.min() - 1,\n",
    "    data.latitude.max() + 1,\n",
    "]\n",
    "\n",
    "print(region)\n",
    "print(data.head())\n",
    "\n",
    "fig = pygmt.Figure()\n",
    "\n",
    "fig.basemap(region=region, projection=\"M15c\", frame=True)\n",
    "fig.coast(land=\"black\", water=\"skyblue\")\n",
    "\n",
    "pygmt.makecpt(cmap=\"viridis\", series=[data.depth_km.min(), data.depth_km.max()])\n",
    "fig.plot(\n",
    "    x=data.longitude,\n",
    "    y=data.latitude,\n",
    "    style=\"cc\",\n",
    "    sizes=0.02 * 2 ** data.magnitude,\n",
    "    color=data.depth_km,\n",
    "    cmap=True,\n",
    "    pen=\"black\",\n",
    ")\n",
    "fig.colorbar(frame='af+l\"Depth (km)\"')\n",
    "\n",
    "fig.show()"
   ]
  },
  {
   "cell_type": "markdown",
   "metadata": {},
   "source": [
    "**Plot embellishments:** [Inset map showing a rectangular region](https://www.pygmt.org/latest/gallery/embellishments/inset_rectangle_region.html#sphx-glr-gallery-embellishments-inset-rectangle-region-py)"
   ]
  },
  {
   "cell_type": "code",
   "execution_count": null,
   "metadata": {},
   "outputs": [],
   "source": [
    "# Set the region of the main figure\n",
    "region = [137.5, 141, 34, 37]\n",
    "\n",
    "fig = pygmt.Figure()\n",
    "\n",
    "# Plot the base map of the main figure. Universal Transverse Mercator (UTM) projection\n",
    "# is used and the UTM zone is set to be \"54S\".\n",
    "fig.basemap(region=region, projection=\"U54S/12c\", frame=[\"WSne\", \"af\"])\n",
    "\n",
    "# Set the land color to \"lightbrown\", the water color to \"azure1\", the shoreline\n",
    "# width to \"2p\", and the area threshold to 1000 km^2 for the main figure\n",
    "fig.coast(land=\"lightbrown\", water=\"azure1\", shorelines=\"2p\", area_thresh=1000)\n",
    "\n",
    "# Create an inset map, setting the position to bottom right, the width to\n",
    "# 3 cm, the height to 3.6 cm, and the x- and y-offsets to\n",
    "# 0.1 cm, respectively. Draws a rectangular box around the inset with a fill color\n",
    "# of \"white\" and a pen of \"1p\".\n",
    "with fig.inset(position=\"jBR+w3c/3.6c+o0.1c\", box=\"+gwhite+p1p\"):\n",
    "    # Plot the Japan main land in the inset using coast. \"U54S/M?\" means UTM\n",
    "    # projection with map width automatically determined from the inset width.\n",
    "    # Highlight the Japan area in \"lightbrown\"\n",
    "    # and draw its outline with a pen of \"0.2p\".\n",
    "    fig.coast(\n",
    "        region=[129, 146, 30, 46],\n",
    "        projection=\"U54S/?\",\n",
    "        dcw=\"JP+glightbrown+p0.2p\",\n",
    "        area_thresh=10000,\n",
    "    )\n",
    "    # Plot a rectangle (\"r\") in the inset map to show the area of the main figure.\n",
    "    # \"+s\" means that the first two columns are the longitude and latitude of\n",
    "    # the bottom left corner of the rectangle, and the last two columns the\n",
    "    # longitude and latitude of the uppper right corner.\n",
    "    rectangle = [[region[0], region[2], region[1], region[3]]]\n",
    "    fig.plot(data=rectangle, style=\"r+s\", pen=\"2p,blue\")\n",
    "\n",
    "fig.show()"
   ]
  },
  {
   "cell_type": "markdown",
   "metadata": {},
   "source": [
    "## 4. Accessing GMT commands using PyGMT\n",
    "\n",
    "PyGMT works by: 1) wrapping GMT commands (called \"modules\" in GMT lingo) in a more \"Pythonic\" shell; and 2) facilitating Python data objects to be passed to GMT commands. GMT commands are getting added regularly — but if you don't find the one you need in the API reference, you can still call any GMT command using PyGMT using the [`pygmt.clib.Session`](https://www.pygmt.org/latest/api/generated/pygmt.clib.Session.html#pygmt.clib.Session) class. Below, an example using GMT's [`meca`](https://docs.generic-mapping-tools.org/latest/supplements/seis/meca.html) command, which plots focal mechanisms:"
   ]
  },
  {
   "cell_type": "code",
   "execution_count": null,
   "metadata": {},
   "outputs": [],
   "source": [
    "fig = pygmt.Figure()\n",
    "\n",
    "# Generate a basemap near Washington state showing coastlines, land, and water\n",
    "fig.coast(\n",
    "    region=[-125, -122, 47, 49],\n",
    "    projection=\"M6c\",\n",
    "    land=\"grey\",\n",
    "    water=\"lightblue\",\n",
    "    shorelines=True,\n",
    "    frame=\"a\",\n",
    ")\n",
    "\n",
    "# Use a few context managers to call meca\n",
    "with pygmt.helpers.GMTTempFile() as temp_file:\n",
    "    with open(temp_file.name, 'w') as f:\n",
    "        f.write('-124.3 48.1 12.0 330 30 90 3 0 0')\n",
    "    with pygmt.clib.Session() as session:\n",
    "        session.call_module('meca', f'{temp_file.name} -Sa1c')\n",
    "\n",
    "fig.show()"
   ]
  },
  {
   "cell_type": "code",
   "execution_count": null,
   "metadata": {},
   "outputs": [],
   "source": [
    "fig = pygmt.Figure()\n",
    "\n",
    "# Generate a basemap near Washington state showing coastlines, land, and water\n",
    "fig.coast(\n",
    "    region=[-125, -122, 47, 49],\n",
    "    projection=\"M6c\",\n",
    "    land=\"grey\",\n",
    "    water=\"lightblue\",\n",
    "    shorelines=True,\n",
    "    frame=\"a\",\n",
    ")\n",
    "\n",
    "# Use a few context managers to call meca\n",
    "with pygmt.helpers.GMTTempFile() as temp_file:\n",
    "    with open(temp_file.name, 'w') as f:\n",
    "        f.write('-124.3 48.1 12.0 330 30 90 3 0 0')\n",
    "    with pygmt.clib.Session() as session:\n",
    "        session.call_module('meca', f'{temp_file.name} -Sa1c')\n",
    "\n",
    "\n",
    "# Store focal mechanisms parameters in a dict\n",
    "focal_mechanism = dict(strike=330, dip=30, rake=90, magnitude=3)\n",
    "\n",
    "# Pass the focal mechanism data to meca in addition to the scale and event location\n",
    "fig.meca(focal_mechanism, longitude=-123.3, latitude=48.1, depth=12.0, scale=\"1c\")\n",
    "\n",
    "fig.show()"
   ]
  },
  {
   "cell_type": "markdown",
   "metadata": {},
   "source": [
    "## 5. Resources\n",
    "\n",
    "* Documentation: [pygmt.org](https://www.pygmt.org/latest/)\n",
    "* Documentation (development version = master branch on GitHub): [pygmt.org/dev](https://www.pygmt.org/dev/)\n",
    "* If documentation doesn't have the answer, ask on the GMT forum under the Q&A category: [forum.generic-mapping-tools.org](https://forum.generic-mapping-tools.org/)\n",
    "* If you think something isn't working right, file an Issue on GitHub: [github.com/GenericMappingTools/pygmt](https://github.com/GenericMappingTools/pygmt)\n",
    "\n",
    "All of PyGMT's functionality is described at the above documentation website. It's your one-stop shop for both detailed documentation **and** helpful examples and tutorials. The [API Reference](https://www.pygmt.org/latest/api/index.html) section (API = Application Programming Interface) shows all the class and methods in PyGMT. Let's look at the documentation."
   ]
  }
 ],
 "metadata": {
  "kernelspec": {
   "display_name": "Python 3",
   "language": "python",
   "name": "python3"
  },
  "language_info": {
   "codemirror_mode": {
    "name": "ipython",
    "version": 3
   },
   "file_extension": ".py",
   "mimetype": "text/x-python",
   "name": "python",
   "nbconvert_exporter": "python",
   "pygments_lexer": "ipython3",
   "version": "3.9.2"
  }
 },
 "nbformat": 4,
 "nbformat_minor": 4
}
